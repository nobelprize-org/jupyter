{
 "cells": [
  {
   "cell_type": "code",
   "execution_count": 13,
   "metadata": {},
   "outputs": [],
   "source": [
    "# Read in json with all laureates from our public API\n",
    "\n",
    "import requests\n",
    " \n",
    "url = \"https://api.nobelprize.org/2.0/laureates?nobelPrizeYear=2000\"\n",
    "\n",
    "response = requests.get(url)\n",
    "#print(response.text[:4000])\n",
    "\n",
    "json = response.json()\n"
   ]
  },
  {
   "cell_type": "code",
   "execution_count": 14,
   "metadata": {},
   "outputs": [
    {
     "name": "stdout",
     "output_type": "stream",
     "text": [
      "Alan Heeger\n",
      "Alan MacDiarmid\n",
      "Arvid Carlsson\n",
      "Daniel L. McFadden\n",
      "Eric Kandel\n",
      "Gao Xingjian\n",
      "Herbert Kroemer\n",
      "Hideki Shirakawa\n",
      "Jack Kilby\n",
      "James J. Heckman\n",
      "Kim Dae-jung\n",
      "Paul Greengard\n",
      "Zhores Alferov\n"
     ]
    }
   ],
   "source": [
    "# Print the names of all laureates who are persons (have a knownName)\n",
    "\n",
    "for laureate in json['laureates']:\n",
    "    if 'knownName' in laureate:\n",
    "        print ( laureate['knownName']['en'] )"
   ]
  },
  {
   "cell_type": "code",
   "execution_count": 15,
   "metadata": {},
   "outputs": [
    {
     "data": {
      "image/png": "[encoded data removed]",
      "text/plain": [
       "<Figure size 432x288 with 1 Axes>"
      ]
     },
     "metadata": {
      "needs_background": "light"
     },
     "output_type": "display_data"
    }
   ],
   "source": [
    "# Create a histogram of birthyears of all laureates who are persons (have a birthDate)\n",
    "from datetime import datetime\n",
    "# Initiate a list of years\n",
    "years = []\n",
    "# Loop all laureates\n",
    "for laureate in json['laureates']:\n",
    "    # If the is a birthdate\n",
    "    if 'birth' in laureate:\n",
    "        # Get the birthdate\n",
    "        birthdate = laureate['birth']['date']\n",
    "        # The API returns 00 as month and day if only year is known\n",
    "        # Make it a string that datetime accepts\n",
    "        birthdate = birthdate.replace('00-00', '01-01') \n",
    "        # Make it a datetime\n",
    "        birthdatetime = datetime.strptime(birthdate, \"%Y-%m-%d\")\n",
    "        # Append the year to the list of years\n",
    "        years.append(birthdatetime.year)\n",
    "import matplotlib.pyplot as plt\n",
    "%matplotlib inline\n",
    "# Define the bars in the histogram\n",
    "bin_edges = [1800,1820,1840,1860,1880,1900,1920,1940,1960,1980,2000]\n",
    "plt.hist(years,\n",
    "         bins=bin_edges,\n",
    "         density=False,\n",
    "         histtype='bar',\n",
    "         color='b',\n",
    "         edgecolor='k',\n",
    "         alpha=0.5)\n",
    "plt.xlabel('Year')\n",
    "plt.xticks([1800,1820,1840,1860,1880,1900,1920,1940,1960,1980,2000])\n",
    "plt.ylabel('Number of laureates')\n",
    "plt.title('Histogram of years laureates were born')\n",
    "plt.show()"
   ]
  }
 ],
 "metadata": {
  "kernelspec": {
   "display_name": "Python 3",
   "language": "python",
   "name": "python3"
  },
  "language_info": {
   "codemirror_mode": {
    "name": "ipython",
    "version": 3
   },
   "file_extension": ".py",
   "mimetype": "text/x-python",
   "name": "python",
   "nbconvert_exporter": "python",
   "pygments_lexer": "ipython3",
   "version": "3.7.3"
  }
 },
 "nbformat": 4,
 "nbformat_minor": 4
}
