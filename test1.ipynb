{
 "cells": [
  {
   "cell_type": "code",
   "execution_count": 13,
   "metadata": {},
   "outputs": [],
   "source": [
    "# Read in json with all laureates from our public API\n",
    "\n",
    "import numpy as np\n",
    "import requests\n",
    " \n",
    "url = \"https://api.nobelprize.org/2.0/laureates?nobelPrizeYear=2000\"\n",
    "\n",
    "response = requests.get(url)\n",
    "#print(response.text[:4000])\n",
    "\n",
    "json = response.json()\n"
   ]
  },
  {
   "cell_type": "code",
   "execution_count": 1,
   "metadata": {},
   "outputs": [
    {
     "name": "stdout",
     "output_type": "stream",
     "text": [
      "Alan Heeger\n",
      "Alan MacDiarmid\n",
      "Arvid Carlsson\n",
      "Daniel L. McFadden\n",
      "Eric Kandel\n",
      "Gao Xingjian\n",
      "Herbert Kroemer\n",
      "Hideki Shirakawa\n",
      "Jack Kilby\n",
      "James J. Heckman\n",
      "Kim Dae-jung\n",
      "Paul Greengard\n",
      "Zhores Alferov\n"
     ]
    }
 "metadata": {
  "kernelspec": {
   "display_name": "Python 3",
   "language": "python",
   "name": "python3"
  },
  "language_info": {
   "codemirror_mode": {
    "name": "ipython",
    "version": 3
   },
   "file_extension": ".py",
   "mimetype": "text/x-python",
   "name": "python",
   "nbconvert_exporter": "python",
   "pygments_lexer": "ipython3",
   "version": "3.7.3"
  }
 },
 "nbformat": 4,
 "nbformat_minor": 4
}
