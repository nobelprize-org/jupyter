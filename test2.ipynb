{
 "cells": [
  {
   "cell_type": "code",
   "execution_count": 3,
   "metadata": {},
   "outputs": [
    {
     "name": "stdout",
     "output_type": "stream",
     "text": [
      "Andrea Ghez\n",
      "Charles M. Rice\n",
      "Emmanuelle Charpentier\n",
      "Harvey J. Alter\n",
      "Jennifer A. Doudna\n",
      "Louise Glück\n",
      "Michael Houghton\n",
      "Paul R. Milgrom\n",
      "Reinhard Genzel\n",
      "Robert B. Wilson\n",
      "Roger Penrose\n"
     ]
    }
   ],
   "source": [
    "# Read in json with all 2000 laureates from our public API\n",
    "\n",
    "import requests\n",
    "url = \"https://api.nobelprize.org/2.0/laureates?nobelPrizeYear=2020\"\n",
    "response = requests.get(url)\n",
    "json = response.json()\n",
    "\n",
    "# Print the names of all laureates who are persons (have a knownName)\n",
    "\n",
    "for laureate in json['laureates']:\n",
    "    if 'knownName' in laureate:\n",
    "        print ( laureate['knownName']['en'] )\n"
   ]
  },
  {
   "cell_type": "code",
   "execution_count": null,
   "metadata": {},
   "outputs": [],
   "source": []
  }
 ],
 "metadata": {
  "kernelspec": {
   "display_name": "Python 3",
   "language": "python",
   "name": "python3"
  },
  "language_info": {
   "codemirror_mode": {
    "name": "ipython",
    "version": 3
   },
   "file_extension": ".py",
   "mimetype": "text/x-python",
   "name": "python",
   "nbconvert_exporter": "python",
   "pygments_lexer": "ipython3",
   "version": "3.11.4"
  }
 },
 "nbformat": 4,
 "nbformat_minor": 4
}
